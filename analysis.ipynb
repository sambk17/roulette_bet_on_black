{
 "cells": [
  {
   "cell_type": "code",
   "execution_count": 119,
   "metadata": {},
   "outputs": [],
   "source": [
    "import numpy as np\n",
    "import random\n",
    "import matplotlib.pyplot as plt"
   ]
  },
  {
   "cell_type": "markdown",
   "metadata": {},
   "source": [
    "# Rules\n",
    "* There are 38 numbers: (1-36) which are red/black and (0, 00) which are green"
   ]
  },
  {
   "cell_type": "code",
   "execution_count": 6,
   "metadata": {},
   "outputs": [],
   "source": [
    "roulette_wheel = ['R'] * 18 + ['B'] * 18 + ['0','00']"
   ]
  },
  {
   "cell_type": "code",
   "execution_count": 10,
   "metadata": {},
   "outputs": [],
   "source": [
    "def single_spin(roulette_wheel):\n",
    "    return random.choice(roulette_wheel)"
   ]
  },
  {
   "cell_type": "code",
   "execution_count": 73,
   "metadata": {},
   "outputs": [],
   "source": [
    "def strategy(roulette_wheel, num_of_spins, initial_bet, increment, type='multiple'):\n",
    "    list_of_spins = []\n",
    "    list_of_bets = []\n",
    "    bet = initial_bet\n",
    "    payout = 0\n",
    "    for i in range(num_of_spins):\n",
    "        spin = single_spin(roulette_wheel)\n",
    "        if spin == 'B':\n",
    "            payout += bet\n",
    "            list_of_bets.append(bet)\n",
    "            list_of_spins.append(spin)\n",
    "            break\n",
    "        else:\n",
    "            if type=='multiple':\n",
    "                list_of_bets.append(bet)\n",
    "                payout -= bet\n",
    "                bet *= increment\n",
    "            elif type=='add':\n",
    "                list_of_bets.append(bet)\n",
    "                payout -= bet\n",
    "                bet += increment\n",
    "            list_of_spins.append(spin)\n",
    "    return list_of_spins, list_of_bets, payout"
   ]
  },
  {
   "cell_type": "code",
   "execution_count": 86,
   "metadata": {},
   "outputs": [
    {
     "data": {
      "text/plain": [
       "(['B'], [10], 10)"
      ]
     },
     "execution_count": 86,
     "metadata": {},
     "output_type": "execute_result"
    }
   ],
   "source": [
    "strategy(roulette_wheel, num_of_spins=10, initial_bet=10, increment=3, type='multiple')"
   ]
  },
  {
   "cell_type": "code",
   "execution_count": 91,
   "metadata": {},
   "outputs": [],
   "source": [
    "def loop(num_of_loops, roulette_wheel, num_of_spins, initial_bet, increment, type='multiple'):\n",
    "    payout_list = []\n",
    "    num_of_rolls = []\n",
    "    for i in range(num_of_loops):\n",
    "        list_of_spins, list_of_bets, payout = strategy(roulette_wheel, num_of_spins, initial_bet, increment, type='multiple')\n",
    "        payout_list.append(payout)\n",
    "        num_of_rolls.append(len(list_of_spins))\n",
    "    return payout_list, num_of_rolls"
   ]
  },
  {
   "cell_type": "code",
   "execution_count": 118,
   "metadata": {},
   "outputs": [
    {
     "name": "stdout",
     "output_type": "stream",
     "text": [
      "-63.31850000000003\n",
      "2.1\n"
     ]
    }
   ],
   "source": [
    "payout_list, num_of_rolls = loop(1000, roulette_wheel, num_of_spins=10, initial_bet=2.29, increment=3, type='multiple')\n",
    "print(np.mean(payout_list))\n",
    "print(np.mean(num_of_rolls))"
   ]
  },
  {
   "cell_type": "code",
   "execution_count": 131,
   "metadata": {},
   "outputs": [
    {
     "data": {
      "image/png": "[encoded data removed]",
      "text/plain": [
       "<Figure size 432x288 with 1 Axes>"
      ]
     },
     "metadata": {},
     "output_type": "display_data"
    }
   ],
   "source": [
    "plt.hist(payout_list, bins=500)\n",
    "plt.xlim([-1000,1000])\n",
    "plt.show()"
   ]
  },
  {
   "cell_type": "code",
   "execution_count": null,
   "metadata": {},
   "outputs": [],
   "source": []
  }
 ],
 "metadata": {
  "kernelspec": {
   "display_name": "Python 3",
   "language": "python",
   "name": "python3"
  },
  "language_info": {
   "codemirror_mode": {
    "name": "ipython",
    "version": 3
   },
   "file_extension": ".py",
   "mimetype": "text/x-python",
   "name": "python",
   "nbconvert_exporter": "python",
   "pygments_lexer": "ipython3",
   "version": "3.6.6"
  }
 },
 "nbformat": 4,
 "nbformat_minor": 2
}
